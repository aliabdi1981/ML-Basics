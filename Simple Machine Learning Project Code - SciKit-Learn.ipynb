{
 "cells": [
  {
   "cell_type": "markdown",
   "id": "543a3f24",
   "metadata": {},
   "source": [
    "## Import Required Libraries"
   ]
  },
  {
   "cell_type": "code",
   "execution_count": null,
   "id": "e3ba52b9",
   "metadata": {},
   "outputs": [],
   "source": [
    "import numpy as np\n",
    "import pandas as pd"
   ]
  },
  {
   "cell_type": "markdown",
   "id": "f872ce97",
   "metadata": {},
   "source": [
    "## Import the Data set as CSV File"
   ]
  },
  {
   "cell_type": "code",
   "execution_count": null,
   "id": "82b798bd",
   "metadata": {},
   "outputs": [],
   "source": [
    "DataSet = = pd.read_csv('.../dataset.csv')"
   ]
  },
  {
   "cell_type": "markdown",
   "id": "be8ebbea",
   "metadata": {},
   "source": [
    "## Define Main and Target sections for training and testing\n",
    " Assuming the data set is already clean and has no missing values or non-numerical values."
   ]
  },
  {
   "cell_type": "code",
   "execution_count": null,
   "id": "5fbcf705",
   "metadata": {},
   "outputs": [],
   "source": [
    "Training_part = DataSet.drop('testing_part_columns', axis=1)\n",
    "Testing_part = DataSet['testing_part_columns']"
   ]
  },
  {
   "cell_type": "markdown",
   "id": "6aea9100",
   "metadata": {},
   "source": [
    "## Import required SciKit-Learn Methods\n",
    "In this case we use RandomForestClassifier and define it as ' clf ' "
   ]
  },
  {
   "cell_type": "code",
   "execution_count": null,
   "id": "3030c3fc",
   "metadata": {},
   "outputs": [],
   "source": [
    "from sklearn.ensemble import RandomForestClassifier\n",
    "clf = RandomForestClassifier()"
   ]
  },
  {
   "cell_type": "markdown",
   "id": "9b5dfb91",
   "metadata": {},
   "source": [
    "## Import train-test-split method to split our data sets\n",
    "Use this method to split the defined data sets in to 2 groups of Training and Testing.\n",
    "The test_size defines the proportion of 80% for Training and 20% for Testing."
   ]
  },
  {
   "cell_type": "code",
   "execution_count": null,
   "id": "19e7b2c0",
   "metadata": {},
   "outputs": [],
   "source": [
    "from sklearn.model_selection import train_test_split \n",
    "X_train, X_test, y_train, y_test = train_test_split(Training_part, Testing_part, test_size=0.2)"
   ]
  },
  {
   "cell_type": "markdown",
   "id": "6ee7fd12",
   "metadata": {},
   "source": [
    "## Fit the model \n",
    "Fit the model to the RandomForestClassifier method as below."
   ]
  },
  {
   "cell_type": "code",
   "execution_count": null,
   "id": "84eba3e0",
   "metadata": {},
   "outputs": [],
   "source": [
    "clf.fit(X_train, y_train);"
   ]
  },
  {
   "cell_type": "markdown",
   "id": "280964cc",
   "metadata": {},
   "source": [
    "## Run the model\n",
    "To run the model use the test parts of the data set."
   ]
  },
  {
   "cell_type": "code",
   "execution_count": null,
   "id": "5f7c675f",
   "metadata": {},
   "outputs": [],
   "source": [
    "clf.score(X_test, y_test)"
   ]
  },
  {
   "cell_type": "markdown",
   "id": "49e1b152",
   "metadata": {},
   "source": [
    "## Export the model\n",
    "\n",
    "- To export the model use the following code.\n",
    "- Use desired name for the exported file.\n",
    "- The file will be saved in the same directory as your project as a .pkl file"
   ]
  },
  {
   "cell_type": "code",
   "execution_count": null,
   "id": "8fd2df45",
   "metadata": {},
   "outputs": [],
   "source": [
    "import pickle\n",
    "\n",
    "pickle.dump(clf, open(\"sample_ml_model.pkl\", \"wb\"))"
   ]
  },
  {
   "cell_type": "markdown",
   "id": "c31ec2a5",
   "metadata": {},
   "source": [
    "## Import and run the Model\n",
    "\n",
    "To import and run the model simply use the following code."
   ]
  },
  {
   "cell_type": "code",
   "execution_count": null,
   "id": "d0390af9",
   "metadata": {},
   "outputs": [],
   "source": [
    "loaded_model = pickle.load(open(\"sample_ml_model.pkl\", \"rb\"))\n",
    "loaded_model.score(X_test, y_test)"
   ]
  },
  {
   "cell_type": "markdown",
   "id": "bded41b3",
   "metadata": {},
   "source": [
    "## Notes:\n",
    "\n",
    "- The returned value after running the model indicates the precision of the model which varies depending on the data set values. \n",
    "- Use your own desired names for data set and csv file according to your project files."
   ]
  },
  {
   "cell_type": "code",
   "execution_count": null,
   "id": "fadfc751",
   "metadata": {},
   "outputs": [],
   "source": []
  }
 ],
 "metadata": {
  "kernelspec": {
   "display_name": "Python 3 (ipykernel)",
   "language": "python",
   "name": "python3"
  },
  "language_info": {
   "codemirror_mode": {
    "name": "ipython",
    "version": 3
   },
   "file_extension": ".py",
   "mimetype": "text/x-python",
   "name": "python",
   "nbconvert_exporter": "python",
   "pygments_lexer": "ipython3",
   "version": "3.11.4"
  }
 },
 "nbformat": 4,
 "nbformat_minor": 5
}
